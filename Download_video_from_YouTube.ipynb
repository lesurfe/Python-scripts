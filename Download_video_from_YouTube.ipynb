{
  "nbformat": 4,
  "nbformat_minor": 0,
  "metadata": {
    "colab": {
      "provenance": []
    },
    "kernelspec": {
      "name": "python3",
      "display_name": "Python 3"
    },
    "language_info": {
      "name": "python"
    }
  },
  "cells": [
    {
      "cell_type": "markdown",
      "source": [
        "This script downloads a video from YT and then edits it to only get its contours"
      ],
      "metadata": {
        "id": "poaVPwFAIV_R"
      }
    },
    {
      "cell_type": "markdown",
      "source": [
        "Selected video: [https://www.youtube.com/watch?v=u9dRVzr67aE](https://www.youtube.com/watch?v=u9dRVzr67aE)"
      ],
      "metadata": {
        "id": "_umOxOTbIsec"
      }
    },
    {
      "cell_type": "code",
      "source": [
        "%pip install yt-dlp"
      ],
      "metadata": {
        "colab": {
          "base_uri": "https://localhost:8080/"
        },
        "id": "sG2RcFQFJOKC",
        "outputId": "f5ab31b1-775f-4b23-f2bc-19397820820b"
      },
      "execution_count": null,
      "outputs": [
        {
          "output_type": "stream",
          "name": "stdout",
          "text": [
            "Collecting yt-dlp\n",
            "  Downloading yt_dlp-2025.10.22-py3-none-any.whl.metadata (176 kB)\n",
            "\u001b[2K     \u001b[90m━━━━━━━━━━━━━━━━━━━━━━━━━━━━━━━━━━━━━━━\u001b[0m \u001b[32m176.0/176.0 kB\u001b[0m \u001b[31m3.4 MB/s\u001b[0m eta \u001b[36m0:00:00\u001b[0m\n",
            "\u001b[?25hDownloading yt_dlp-2025.10.22-py3-none-any.whl (3.2 MB)\n",
            "\u001b[2K   \u001b[90m━━━━━━━━━━━━━━━━━━━━━━━━━━━━━━━━━━━━━━━━\u001b[0m \u001b[32m3.2/3.2 MB\u001b[0m \u001b[31m50.9 MB/s\u001b[0m eta \u001b[36m0:00:00\u001b[0m\n",
            "\u001b[?25hInstalling collected packages: yt-dlp\n",
            "Successfully installed yt-dlp-2025.10.22\n"
          ]
        }
      ]
    },
    {
      "cell_type": "code",
      "source": [
        "pip install opencv-python numpy"
      ],
      "metadata": {
        "id": "3o_yYJwCKYn3"
      },
      "execution_count": null,
      "outputs": []
    },
    {
      "cell_type": "code",
      "source": [
        "import yt_dlp\n",
        "from yt_dlp.utils import DownloadError\n",
        "\n",
        "import glob\n",
        "\n",
        "import cv2\n",
        "import numpy as np\n",
        "import os"
      ],
      "metadata": {
        "id": "K-fr7QOhJKdV"
      },
      "execution_count": null,
      "outputs": []
    },
    {
      "cell_type": "code",
      "source": [
        "video_url = 'https://www.youtube.com/watch?v=u9dRVzr67aE' # Replace with the actual video URL"
      ],
      "metadata": {
        "id": "rujr_gOoIkXU"
      },
      "execution_count": null,
      "outputs": []
    },
    {
      "cell_type": "code",
      "source": [
        "# Args: URL of the YouTube video. Returns: A dictionary containing the video information, or None if an error occurred.\n",
        "\n",
        "def get_video_info(url):\n",
        "    ydl_opts = {\n",
        "        'quiet': True,\n",
        "        'skip_download': True,\n",
        "    }\n",
        "    with yt_dlp.YoutubeDL(ydl_opts) as ydl:\n",
        "        try:\n",
        "            info_dict = ydl.extract_info(url, download=False)\n",
        "            video_info = {\n",
        "                'length': info_dict.get('duration'),\n",
        "                'quality': info_dict.get('format_note'),\n",
        "                'fps': info_dict.get('fps'),\n",
        "            }\n",
        "            return video_info\n",
        "        except Exception as e:\n",
        "            print(f\"Error getting video info: {e}\")\n",
        "            return None"
      ],
      "metadata": {
        "id": "-HPVb6MYIklH"
      },
      "execution_count": null,
      "outputs": []
    },
    {
      "cell_type": "code",
      "source": [
        "info = get_video_info(video_url)\n",
        "\n",
        "if info:\n",
        "    print(f\"Video Length: {info['length']} seconds\")\n",
        "    print(f\"Video Quality: {info['quality']}\")\n",
        "    print(f\"Frames Per Second (FPS): {info['fps']}\")\n",
        "    if info['length'] is not None and info['fps'] is not None:\n",
        "        total_frames = info['length'] * info['fps']\n",
        "        print(f\"Total Frames: {total_frames}\")"
      ],
      "metadata": {
        "colab": {
          "base_uri": "https://localhost:8080/"
        },
        "id": "4pkQYpnvIka9",
        "outputId": "a94ece05-5701-4210-90f7-1a649edb363c"
      },
      "execution_count": null,
      "outputs": [
        {
          "output_type": "stream",
          "name": "stderr",
          "text": [
            "WARNING: [youtube] Falling back to generic n function search\n",
            "         player = https://www.youtube.com/s/player/87644c66/player_ias.vflset/en_US/base.js\n",
            "WARNING: [youtube] u9dRVzr67aE: nsig extraction failed: Some formats may be missing\n",
            "         n = 60crdKp8bLMxSfwxHYj ; player = https://www.youtube.com/s/player/87644c66/player_ias.vflset/en_US/base.js\n",
            "         Please report this issue on  https://github.com/yt-dlp/yt-dlp/issues?q= , filling out the appropriate issue template. Confirm you are on the latest version using  yt-dlp -U\n",
            "WARNING: [youtube] u9dRVzr67aE: Some web_safari client https formats have been skipped as they are missing a url. YouTube is forcing SABR streaming for this client. See  https://github.com/yt-dlp/yt-dlp/issues/12482  for more details\n",
            "WARNING: [youtube] u9dRVzr67aE: Some web client https formats have been skipped as they are missing a url. YouTube is forcing SABR streaming for this client. See  https://github.com/yt-dlp/yt-dlp/issues/12482  for more details\n"
          ]
        },
        {
          "output_type": "stream",
          "name": "stdout",
          "text": [
            "Video Length: 210 seconds\n",
            "Video Quality: 1080p50+medium\n",
            "Frames Per Second (FPS): 50\n",
            "Total Frames: 10500\n"
          ]
        }
      ]
    },
    {
      "cell_type": "code",
      "source": [
        "# Downloads the highest quality video (or audio/video combination) from a given YouTube URL using yt-dlp\n",
        "\n",
        "def download_youtube_video(video_url):\n",
        "    # Define the download directory (default is the current working directory)\n",
        "    download_path = os.getcwd()\n",
        "\n",
        "    ydl_opts = {\n",
        "        'format': 'best', # 'best' format automatically selects the highest quality available\n",
        "        'outtmpl': os.path.join(download_path, '%(title)s.%(ext)s'), # Output template: saves the file with its title, ensuring it lands in our defined path\n",
        "        'quiet': False, # Suppress standard output logs for a cleaner user experience\n",
        "        'noplaylist': True, # Don't download a full playlist if the user accidentally provides a playlist URL\n",
        "        'progress_hooks': [lambda d: print(f\"Status: {d['status'].capitalize()}\", end='\\r') if d['status'] in ('downloading', 'finished') else None] # Add a progress hook to provide user feedback\n",
        "    }\n",
        "\n",
        "    try:\n",
        "        print(f\"\\nTargeting URL: {video_url}\")\n",
        "        print(f\"Downloading to: {download_path}\\n\")\n",
        "\n",
        "        with yt_dlp.YoutubeDL(ydl_opts) as ydl:\n",
        "            info = ydl.extract_info(video_url, download=True) # Extract information and perform the download\n",
        "\n",
        "            final_filename = info.get('title', 'Unknown Title') + '.' + info.get('ext', 'mp4') # Extract final filename (yt-dlp provides this in the info dict)\n",
        "\n",
        "            print(\"\\nDownload complete!\")\n",
        "            print(f\"Video Title: {info.get('title', 'N/A')}\")\n",
        "            print(f\"File saved as: {final_filename}\")\n",
        "\n",
        "    except DownloadError as e:\n",
        "        print(f\"\\nError: Failed to download the video. Details: {e}\") # # Handle specific download errors (like invalid URL, geographic restriction, etc.)\n",
        "    except Exception as e:\n",
        "        print(f\"\\nAn unexpected error occurred: {e}\")"
      ],
      "metadata": {
        "id": "YZf19u0dI8Ml"
      },
      "execution_count": null,
      "outputs": []
    },
    {
      "cell_type": "code",
      "source": [
        "download_youtube_video(video_url)"
      ],
      "metadata": {
        "colab": {
          "base_uri": "https://localhost:8080/"
        },
        "id": "WV5jFmk-I-iI",
        "outputId": "ea1a15d5-c749-47b2-b620-4f9dd3001ae0"
      },
      "execution_count": null,
      "outputs": [
        {
          "output_type": "stream",
          "name": "stdout",
          "text": [
            "\n",
            "Targeting URL: https://www.youtube.com/watch?v=u9dRVzr67aE\n",
            "Downloading to: /content\n",
            "\n",
            "[youtube] Extracting URL: https://www.youtube.com/watch?v=u9dRVzr67aE\n",
            "[youtube] u9dRVzr67aE: Downloading webpage\n",
            "[youtube] u9dRVzr67aE: Downloading android sdkless player API JSON\n",
            "[youtube] u9dRVzr67aE: Downloading tv client config\n",
            "[youtube] u9dRVzr67aE: Downloading tv player API JSON\n",
            "[youtube] u9dRVzr67aE: Downloading web safari player API JSON\n",
            "[youtube] u9dRVzr67aE: Downloading player 87644c66-main\n"
          ]
        },
        {
          "output_type": "stream",
          "name": "stderr",
          "text": [
            "WARNING: [youtube] Falling back to generic n function search\n",
            "         player = https://www.youtube.com/s/player/87644c66/player_ias.vflset/en_US/base.js\n",
            "WARNING: [youtube] u9dRVzr67aE: nsig extraction failed: Some formats may be missing\n",
            "         n = Ql9_HC29ukWu3gpu-CQ ; player = https://www.youtube.com/s/player/87644c66/player_ias.vflset/en_US/base.js\n",
            "         Please report this issue on  https://github.com/yt-dlp/yt-dlp/issues?q= , filling out the appropriate issue template. Confirm you are on the latest version using  yt-dlp -U\n",
            "WARNING: [youtube] u9dRVzr67aE: Some web_safari client https formats have been skipped as they are missing a url. YouTube is forcing SABR streaming for this client. See  https://github.com/yt-dlp/yt-dlp/issues/12482  for more details\n",
            "WARNING: [youtube] u9dRVzr67aE: Some web client https formats have been skipped as they are missing a url. YouTube is forcing SABR streaming for this client. See  https://github.com/yt-dlp/yt-dlp/issues/12482  for more details\n"
          ]
        },
        {
          "output_type": "stream",
          "name": "stdout",
          "text": [
            "[youtube] u9dRVzr67aE: Downloading m3u8 information\n",
            "[info] u9dRVzr67aE: Downloading 1 format(s): 301\n",
            "[download] Sleeping 5.00 seconds as required by the site...\n",
            "[hlsnative] Downloading m3u8 manifest\n",
            "[hlsnative] Total fragments: 41\n",
            "[download] Destination: /content/Adrian Mannarino vs Matteo Berrettini ｜ Shanghai 2025 Highlights.mp4\n",
            "[download] 100% of   42.91MiB in 00:00:04 at 10.19MiB/s                Status: Finished\n",
            "[FixupM3u8] Fixing MPEG-TS in MP4 container of \"/content/Adrian Mannarino vs Matteo Berrettini ｜ Shanghai 2025 Highlights.mp4\"\n",
            "\n",
            "Download complete!\n",
            "Video Title: Adrian Mannarino vs Matteo Berrettini | Shanghai 2025 Highlights\n",
            "File saved as: Adrian Mannarino vs Matteo Berrettini | Shanghai 2025 Highlights.mp4\n"
          ]
        }
      ]
    }
  ]
}