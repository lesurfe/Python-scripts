{
  "nbformat": 4,
  "nbformat_minor": 0,
  "metadata": {
    "colab": {
      "provenance": []
    },
    "kernelspec": {
      "name": "python3",
      "display_name": "Python 3"
    },
    "language_info": {
      "name": "python"
    }
  },
  "cells": [
    {
      "cell_type": "markdown",
      "source": [
        "This script downloads a video from YT and then edits it to only get its contours"
      ],
      "metadata": {
        "id": "poaVPwFAIV_R"
      }
    },
    {
      "cell_type": "markdown",
      "source": [
        "Selected video: [https://www.youtube.com/watch?v=u9dRVzr67aE](https://www.youtube.com/watch?v=u9dRVzr67aE)"
      ],
      "metadata": {
        "id": "_umOxOTbIsec"
      }
    },
    {
      "cell_type": "code",
      "source": [
        "%pip install yt-dlp"
      ],
      "metadata": {
        "colab": {
          "base_uri": "https://localhost:8080/"
        },
        "id": "sG2RcFQFJOKC",
        "outputId": "f5ab31b1-775f-4b23-f2bc-19397820820b"
      },
      "execution_count": null,
      "outputs": [
        {
          "output_type": "stream",
          "name": "stdout",
          "text": [
            "Collecting yt-dlp\n",
            "  Downloading yt_dlp-2025.10.22-py3-none-any.whl.metadata (176 kB)\n",
            "\u001b[2K     \u001b[90m━━━━━━━━━━━━━━━━━━━━━━━━━━━━━━━━━━━━━━━\u001b[0m \u001b[32m176.0/176.0 kB\u001b[0m \u001b[31m3.4 MB/s\u001b[0m eta \u001b[36m0:00:00\u001b[0m\n",
            "\u001b[?25hDownloading yt_dlp-2025.10.22-py3-none-any.whl (3.2 MB)\n",
            "\u001b[2K   \u001b[90m━━━━━━━━━━━━━━━━━━━━━━━━━━━━━━━━━━━━━━━━\u001b[0m \u001b[32m3.2/3.2 MB\u001b[0m \u001b[31m50.9 MB/s\u001b[0m eta \u001b[36m0:00:00\u001b[0m\n",
            "\u001b[?25hInstalling collected packages: yt-dlp\n",
            "Successfully installed yt-dlp-2025.10.22\n"
          ]
        }
      ]
    },
    {
      "cell_type": "code",
      "source": [
        "pip install opencv-python numpy"
      ],
      "metadata": {
        "id": "3o_yYJwCKYn3"
      },
      "execution_count": null,
      "outputs": []
    },
    {
      "cell_type": "code",
      "source": [
        "import yt_dlp\n",
        "from yt_dlp.utils import DownloadError\n",
        "\n",
        "import glob\n",
        "\n",
        "import cv2\n",
        "import numpy as np\n",
        "import os"
      ],
      "metadata": {
        "id": "K-fr7QOhJKdV"
      },
      "execution_count": null,
      "outputs": []
    },
    {
      "cell_type": "code",
      "source": [
        "video_url = 'https://www.youtube.com/watch?v=u9dRVzr67aE' # Replace with the actual video URL"
      ],
      "metadata": {
        "id": "rujr_gOoIkXU"
      },
      "execution_count": null,
      "outputs": []
    },
    {
      "cell_type": "code",
      "source": [
        "# Args: URL of the YouTube video. Returns: A dictionary containing the video information, or None if an error occurred.\n",
        "\n",
        "def get_video_info(url):\n",
        "    ydl_opts = {\n",
        "        'quiet': True,\n",
        "        'skip_download': True,\n",
        "    }\n",
        "    with yt_dlp.YoutubeDL(ydl_opts) as ydl:\n",
        "        try:\n",
        "            info_dict = ydl.extract_info(url, download=False)\n",
        "            video_info = {\n",
        "                'length': info_dict.get('duration'),\n",
        "                'quality': info_dict.get('format_note'),\n",
        "                'fps': info_dict.get('fps'),\n",
        "            }\n",
        "            return video_info\n",
        "        except Exception as e:\n",
        "            print(f\"Error getting video info: {e}\")\n",
        "            return None"
      ],
      "metadata": {
        "id": "-HPVb6MYIklH"
      },
      "execution_count": null,
      "outputs": []
    },
    {
      "cell_type": "code",
      "source": [
        "info = get_video_info(video_url)\n",
        "\n",
        "if info:\n",
        "    print(f\"Video Length: {info['length']} seconds\")\n",
        "    print(f\"Video Quality: {info['quality']}\")\n",
        "    print(f\"Frames Per Second (FPS): {info['fps']}\")\n",
        "    if info['length'] is not None and info['fps'] is not None:\n",
        "        total_frames = info['length'] * info['fps']\n",
        "        print(f\"Total Frames: {total_frames}\")"
      ],
      "metadata": {
        "colab": {
          "base_uri": "https://localhost:8080/"
        },
        "id": "4pkQYpnvIka9",
        "outputId": "a94ece05-5701-4210-90f7-1a649edb363c"
      },
      "execution_count": null,
      "outputs": [
        {
          "output_type": "stream",
          "name": "stderr",
          "text": [
            "WARNING: [youtube] Falling back to generic n function search\n",
            "         player = https://www.youtube.com/s/player/87644c66/player_ias.vflset/en_US/base.js\n",
            "WARNING: [youtube] u9dRVzr67aE: nsig extraction failed: Some formats may be missing\n",
            "         n = 60crdKp8bLMxSfwxHYj ; player = https://www.youtube.com/s/player/87644c66/player_ias.vflset/en_US/base.js\n",
            "         Please report this issue on  https://github.com/yt-dlp/yt-dlp/issues?q= , filling out the appropriate issue template. Confirm you are on the latest version using  yt-dlp -U\n",
            "WARNING: [youtube] u9dRVzr67aE: Some web_safari client https formats have been skipped as they are missing a url. YouTube is forcing SABR streaming for this client. See  https://github.com/yt-dlp/yt-dlp/issues/12482  for more details\n",
            "WARNING: [youtube] u9dRVzr67aE: Some web client https formats have been skipped as they are missing a url. YouTube is forcing SABR streaming for this client. See  https://github.com/yt-dlp/yt-dlp/issues/12482  for more details\n"
          ]
        },
        {
          "output_type": "stream",
          "name": "stdout",
          "text": [
            "Video Length: 210 seconds\n",
            "Video Quality: 1080p50+medium\n",
            "Frames Per Second (FPS): 50\n",
            "Total Frames: 10500\n"
          ]
        }
      ]
    },
    {
      "cell_type": "code",
      "source": [
        "# Downloads the highest quality video (or audio/video combination) from a given YouTube URL using yt-dlp\n",
        "\n",
        "def download_youtube_video(video_url):\n",
        "    # Define the download directory (default is the current working directory)\n",
        "    download_path = os.getcwd()\n",
        "\n",
        "    ydl_opts = {\n",
        "        'format': 'best', # 'best' format automatically selects the highest quality available\n",
        "        'outtmpl': os.path.join(download_path, '%(title)s.%(ext)s'), # Output template: saves the file with its title, ensuring it lands in our defined path\n",
        "        'quiet': False, # Suppress standard output logs for a cleaner user experience\n",
        "        'noplaylist': True, # Don't download a full playlist if the user accidentally provides a playlist URL\n",
        "        'progress_hooks': [lambda d: print(f\"Status: {d['status'].capitalize()}\", end='\\r') if d['status'] in ('downloading', 'finished') else None] # Add a progress hook to provide user feedback\n",
        "    }\n",
        "\n",
        "    try:\n",
        "        print(f\"\\nTargeting URL: {video_url}\")\n",
        "        print(f\"Downloading to: {download_path}\\n\")\n",
        "\n",
        "        with yt_dlp.YoutubeDL(ydl_opts) as ydl:\n",
        "            info = ydl.extract_info(video_url, download=True) # Extract information and perform the download\n",
        "\n",
        "            final_filename = info.get('title', 'Unknown Title') + '.' + info.get('ext', 'mp4') # Extract final filename (yt-dlp provides this in the info dict)\n",
        "\n",
        "            print(\"\\nDownload complete!\")\n",
        "            print(f\"Video Title: {info.get('title', 'N/A')}\")\n",
        "            print(f\"File saved as: {final_filename}\")\n",
        "\n",
        "    except DownloadError as e:\n",
        "        print(f\"\\nError: Failed to download the video. Details: {e}\") # # Handle specific download errors (like invalid URL, geographic restriction, etc.)\n",
        "    except Exception as e:\n",
        "        print(f\"\\nAn unexpected error occurred: {e}\")"
      ],
      "metadata": {
        "id": "YZf19u0dI8Ml"
      },
      "execution_count": null,
      "outputs": []
    },
    {
      "cell_type": "code",
      "source": [
        "download_youtube_video(video_url)"
      ],
      "metadata": {
        "colab": {
          "base_uri": "https://localhost:8080/"
        },
        "id": "WV5jFmk-I-iI",
        "outputId": "ea1a15d5-c749-47b2-b620-4f9dd3001ae0"
      },
      "execution_count": null,
      "outputs": [
        {
          "output_type": "stream",
          "name": "stdout",
          "text": [
            "\n",
            "Targeting URL: https://www.youtube.com/watch?v=u9dRVzr67aE\n",
            "Downloading to: /content\n",
            "\n",
            "[youtube] Extracting URL: https://www.youtube.com/watch?v=u9dRVzr67aE\n",
            "[youtube] u9dRVzr67aE: Downloading webpage\n",
            "[youtube] u9dRVzr67aE: Downloading android sdkless player API JSON\n",
            "[youtube] u9dRVzr67aE: Downloading tv client config\n",
            "[youtube] u9dRVzr67aE: Downloading tv player API JSON\n",
            "[youtube] u9dRVzr67aE: Downloading web safari player API JSON\n",
            "[youtube] u9dRVzr67aE: Downloading player 87644c66-main\n"
          ]
        },
        {
          "output_type": "stream",
          "name": "stderr",
          "text": [
            "WARNING: [youtube] Falling back to generic n function search\n",
            "         player = https://www.youtube.com/s/player/87644c66/player_ias.vflset/en_US/base.js\n",
            "WARNING: [youtube] u9dRVzr67aE: nsig extraction failed: Some formats may be missing\n",
            "         n = Ql9_HC29ukWu3gpu-CQ ; player = https://www.youtube.com/s/player/87644c66/player_ias.vflset/en_US/base.js\n",
            "         Please report this issue on  https://github.com/yt-dlp/yt-dlp/issues?q= , filling out the appropriate issue template. Confirm you are on the latest version using  yt-dlp -U\n",
            "WARNING: [youtube] u9dRVzr67aE: Some web_safari client https formats have been skipped as they are missing a url. YouTube is forcing SABR streaming for this client. See  https://github.com/yt-dlp/yt-dlp/issues/12482  for more details\n",
            "WARNING: [youtube] u9dRVzr67aE: Some web client https formats have been skipped as they are missing a url. YouTube is forcing SABR streaming for this client. See  https://github.com/yt-dlp/yt-dlp/issues/12482  for more details\n"
          ]
        },
        {
          "output_type": "stream",
          "name": "stdout",
          "text": [
            "[youtube] u9dRVzr67aE: Downloading m3u8 information\n",
            "[info] u9dRVzr67aE: Downloading 1 format(s): 301\n",
            "[download] Sleeping 5.00 seconds as required by the site...\n",
            "[hlsnative] Downloading m3u8 manifest\n",
            "[hlsnative] Total fragments: 41\n",
            "[download] Destination: /content/Adrian Mannarino vs Matteo Berrettini ｜ Shanghai 2025 Highlights.mp4\n",
            "[download] 100% of   42.91MiB in 00:00:04 at 10.19MiB/s                Status: Finished\n",
            "[FixupM3u8] Fixing MPEG-TS in MP4 container of \"/content/Adrian Mannarino vs Matteo Berrettini ｜ Shanghai 2025 Highlights.mp4\"\n",
            "\n",
            "Download complete!\n",
            "Video Title: Adrian Mannarino vs Matteo Berrettini | Shanghai 2025 Highlights\n",
            "File saved as: Adrian Mannarino vs Matteo Berrettini | Shanghai 2025 Highlights.mp4\n"
          ]
        }
      ]
    },
    {
      "cell_type": "code",
      "source": [
        "# Searches the current working directory for the file with the .mp4 extension\n",
        "\n",
        "def mp4_path():\n",
        "    mp4_files = glob.glob('*.mp4') # Use glob to find all files matching the pattern '*.mp4'\n",
        "\n",
        "    if mp4_files:\n",
        "        file_path = os.path.abspath(mp4_files[0]) # Return the absolute path of the first found file\n",
        "        print(\"Found MP4 file: \",file_path)\n",
        "        return file_path\n",
        "    else:\n",
        "        print(\"No .mp4 files found in the current directory.\") # Return a message if no file is found\n",
        "        return"
      ],
      "metadata": {
        "id": "fE2_qHOaI_U1"
      },
      "execution_count": null,
      "outputs": []
    },
    {
      "cell_type": "code",
      "source": [
        "input_video_path = mp4_path()"
      ],
      "metadata": {
        "colab": {
          "base_uri": "https://localhost:8080/"
        },
        "id": "mSK9zsMZJF32",
        "outputId": "0ef79783-488e-4279-d876-efa10735f238"
      },
      "execution_count": null,
      "outputs": [
        {
          "output_type": "stream",
          "name": "stdout",
          "text": [
            "Found MP4 file:  /content/Adrian Mannarino vs Matteo Berrettini ｜ Shanghai 2025 Highlights.mp4\n"
          ]
        }
      ]
    },
    {
      "cell_type": "code",
      "source": [
        "youtube_video_file_name = os.path.basename(input_video_path)\n",
        "print(youtube_video_file_name)"
      ],
      "metadata": {
        "colab": {
          "base_uri": "https://localhost:8080/"
        },
        "id": "y5xVjFsxJH-P",
        "outputId": "bd2f938a-5fcd-46e7-ba51-3739de230188"
      },
      "execution_count": null,
      "outputs": [
        {
          "output_type": "stream",
          "name": "stdout",
          "text": [
            "Adrian Mannarino vs Matteo Berrettini ｜ Shanghai 2025 Highlights.mp4\n"
          ]
        }
      ]
    },
    {
      "cell_type": "code",
      "execution_count": null,
      "metadata": {
        "id": "C2nom7BtIT6O"
      },
      "outputs": [],
      "source": [
        "def create_contour_video(input_path, output_path, min_contour_area):\n",
        "    \"\"\"\n",
        "    Reads a video, converts it to a contour-only video, and saves the result.\n",
        "\n",
        "    :param input_path: Path to the input MP4 video file.\n",
        "    :param output_path: Path to save the output contour MP4 video file.\n",
        "    :param min_contour_area: Minimum area for a contour to be drawn. Adjust to filter noise.\n",
        "    \"\"\"\n",
        "    if not os.path.exists(input_path):\n",
        "        print(f\"Error: Input file not found at {input_path}\")\n",
        "        return\n",
        "\n",
        "    # 1. Open the video file\n",
        "    cap = cv2.VideoCapture(input_path)\n",
        "\n",
        "    if not cap.isOpened():\n",
        "        print(f\"Error: Could not open video file {input_path}\")\n",
        "        return\n",
        "\n",
        "    # Get video properties (frame width, height, and FPS)\n",
        "    frame_width = int(cap.get(cv2.CAP_PROP_FRAME_WIDTH))\n",
        "    frame_height = int(cap.get(cv2.CAP_PROP_FRAME_HEIGHT))\n",
        "    fps = cap.get(cv2.CAP_PROP_FPS)\n",
        "\n",
        "    # Define the codec and create VideoWriter object\n",
        "    # Adjust the fourcc code if needed (e.g., 'XVID', 'MJPG')\n",
        "    fourcc = cv2.VideoWriter_fourcc(*'mp4v')\n",
        "    out = cv2.VideoWriter(output_path, fourcc, fps, (frame_width, frame_height), isColor=True)\n",
        "\n",
        "    # Optional: Display a sample of the first few frames to see processing\n",
        "    # cv2.namedWindow('Contour Frame', cv2.WINDOW_NORMAL)\n",
        "\n",
        "    frame_count = 0\n",
        "    print(\"Processing video...\")\n",
        "\n",
        "    # 2. Process the video frame by frame\n",
        "    while cap.isOpened():\n",
        "        ret, frame = cap.read()\n",
        "\n",
        "        if not ret:\n",
        "            break # Break the loop if reading failed (end of video)\n",
        "\n",
        "        # --- Image Processing Pipeline ---\n",
        "\n",
        "        # 2a. Convert to grayscale\n",
        "        gray = cv2.cvtColor(frame, cv2.COLOR_BGR2GRAY)\n",
        "\n",
        "        # 2b. Apply Gaussian Blur to smooth the image and reduce noise\n",
        "        # The kernel size (e.g., (5, 5)) and sigmaX (0) can be adjusted\n",
        "        blurred = cv2.GaussianBlur(gray, (5, 5), 0)\n",
        "\n",
        "        # 2c. Apply Canny Edge Detector to find the edges\n",
        "        # The two thresholds (100, 200) control which edges are included\n",
        "        edges = cv2.Canny(blurred, 100, 200)\n",
        "\n",
        "        # 3. Find Contours from the edges\n",
        "        # RETR_EXTERNAL retrieves only the extreme outer contours\n",
        "        # CHAIN_APPROX_SIMPLE compresses horizontal, vertical, and diagonal segments\n",
        "        contours, hierarchy = cv2.findContours(edges.copy(), cv2.RETR_EXTERNAL, cv2.CHAIN_APPROX_SIMPLE)\n",
        "\n",
        "        # Create a blank black canvas to draw the contours on\n",
        "        # You can change the background color (e.g., to white: np.ones(...) * 255)\n",
        "        contour_frame = np.zeros((frame_height, frame_width, 3), dtype=np.uint8)\n",
        "\n",
        "        # 3b. Draw contours\n",
        "        for contour in contours:\n",
        "            # Filter out very small contours (noise)\n",
        "            if cv2.contourArea(contour) > min_contour_area:\n",
        "                # Draw the contour in white (255, 255, 255)\n",
        "                # -1 means all points of the contour are drawn, 2 is the line thickness\n",
        "                cv2.drawContours(contour_frame, [contour], -1, (255, 255, 255), 1)\n",
        "\n",
        "        # 4. Write the frame to the output video\n",
        "        out.write(contour_frame)\n",
        "\n",
        "        # Optional: Display the frame\n",
        "        # cv2.imshow('Contour Frame', contour_frame)\n",
        "        # if cv2.waitKey(1) & 0xFF == ord('q'):\n",
        "        #     break\n",
        "\n",
        "        frame_count += 1\n",
        "        if frame_count % 100 == 0:\n",
        "            print(f\"Processed {frame_count} frames...\")\n",
        "\n",
        "    # Release everything when the job is finished\n",
        "    cap.release()\n",
        "    out.release()\n",
        "    cv2.destroyAllWindows()\n",
        "\n",
        "    print(f\"Video processing complete. Saved to: {output_path}\")"
      ]
    },
    {
      "cell_type": "code",
      "source": [
        "contour_video = 'contour_output5.mp4'\n",
        "\n",
        "create_contour_video(input_video_path, contour_video, min_contour_area=5)"
      ],
      "metadata": {
        "colab": {
          "base_uri": "https://localhost:8080/"
        },
        "id": "mQJAzTFIJ4PX",
        "outputId": "22bd2cd0-5ec6-42f2-f597-3a226875cdbf"
      },
      "execution_count": null,
      "outputs": [
        {
          "output_type": "stream",
          "name": "stdout",
          "text": [
            "Processing video...\n",
            "Processed 100 frames...\n",
            "Processed 200 frames...\n",
            "Processed 300 frames...\n",
            "Processed 400 frames...\n",
            "Processed 500 frames...\n",
            "Processed 600 frames...\n",
            "Processed 700 frames...\n",
            "Processed 800 frames...\n",
            "Processed 900 frames...\n",
            "Processed 1000 frames...\n",
            "Processed 1100 frames...\n",
            "Processed 1200 frames...\n",
            "Processed 1300 frames...\n",
            "Processed 1400 frames...\n",
            "Processed 1500 frames...\n",
            "Processed 1600 frames...\n",
            "Processed 1700 frames...\n",
            "Processed 1800 frames...\n",
            "Processed 1900 frames...\n",
            "Processed 2000 frames...\n",
            "Processed 2100 frames...\n",
            "Processed 2200 frames...\n",
            "Processed 2300 frames...\n",
            "Processed 2400 frames...\n",
            "Processed 2500 frames...\n",
            "Processed 2600 frames...\n",
            "Processed 2700 frames...\n",
            "Processed 2800 frames...\n",
            "Processed 2900 frames...\n",
            "Processed 3000 frames...\n",
            "Processed 3100 frames...\n",
            "Processed 3200 frames...\n",
            "Processed 3300 frames...\n",
            "Processed 3400 frames...\n",
            "Processed 3500 frames...\n",
            "Processed 3600 frames...\n",
            "Processed 3700 frames...\n",
            "Processed 3800 frames...\n",
            "Processed 3900 frames...\n",
            "Processed 4000 frames...\n",
            "Processed 4100 frames...\n",
            "Processed 4200 frames...\n",
            "Processed 4300 frames...\n",
            "Processed 4400 frames...\n",
            "Processed 4500 frames...\n",
            "Processed 4600 frames...\n",
            "Processed 4700 frames...\n",
            "Processed 4800 frames...\n",
            "Processed 4900 frames...\n",
            "Processed 5000 frames...\n",
            "Processed 5100 frames...\n",
            "Processed 5200 frames...\n",
            "Processed 5300 frames...\n",
            "Processed 5400 frames...\n",
            "Processed 5500 frames...\n",
            "Processed 5600 frames...\n",
            "Processed 5700 frames...\n",
            "Processed 5800 frames...\n",
            "Processed 5900 frames...\n",
            "Processed 6000 frames...\n",
            "Processed 6100 frames...\n",
            "Processed 6200 frames...\n",
            "Processed 6300 frames...\n",
            "Processed 6400 frames...\n",
            "Processed 6500 frames...\n",
            "Processed 6600 frames...\n",
            "Processed 6700 frames...\n",
            "Processed 6800 frames...\n",
            "Processed 6900 frames...\n",
            "Processed 7000 frames...\n",
            "Processed 7100 frames...\n",
            "Processed 7200 frames...\n",
            "Processed 7300 frames...\n",
            "Processed 7400 frames...\n",
            "Processed 7500 frames...\n",
            "Processed 7600 frames...\n",
            "Processed 7700 frames...\n",
            "Processed 7800 frames...\n",
            "Processed 7900 frames...\n",
            "Processed 8000 frames...\n",
            "Processed 8100 frames...\n",
            "Processed 8200 frames...\n",
            "Processed 8300 frames...\n",
            "Processed 8400 frames...\n",
            "Processed 8500 frames...\n",
            "Processed 8600 frames...\n",
            "Processed 8700 frames...\n",
            "Processed 8800 frames...\n",
            "Processed 8900 frames...\n",
            "Processed 9000 frames...\n",
            "Processed 9100 frames...\n",
            "Processed 9200 frames...\n",
            "Processed 9300 frames...\n",
            "Processed 9400 frames...\n",
            "Processed 9500 frames...\n",
            "Processed 9600 frames...\n",
            "Processed 9700 frames...\n",
            "Processed 9800 frames...\n",
            "Processed 9900 frames...\n",
            "Processed 10000 frames...\n",
            "Processed 10100 frames...\n",
            "Processed 10200 frames...\n",
            "Processed 10300 frames...\n",
            "Processed 10400 frames...\n",
            "Video processing complete. Saved to: contour_output5.mp4\n"
          ]
        }
      ]
    }
  ]
}